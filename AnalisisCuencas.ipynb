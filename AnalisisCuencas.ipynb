{
 "cells": [
  {
   "cell_type": "markdown",
   "metadata": {},
   "source": [
    "# Código para calcular las curvas Hipsométricas\n",
    "\n",
    "Este código toma como entradas el shapefile de las cuencas a evaluar y un archivo DEM que contenga dichas cuencas.\n",
    "El código calcula la curva hipsométrica de cada cuenca, obtiene las coordenadas de las curvas y las guarda en un archivo JSON, ademas captura el valor 'Hypsometric Integral' calculado por la herramienta WBT y calcula el área bajo la curva hipsométrica.\n",
    "\n",
    "Como resultado devuelve:\n",
    "- Los DEMs recortados de cada cuenca\n",
    "- Un archivo GeoJSON con las cuencas y sus atributos de hypso_integral y area_curva.\n",
    "- Un archivo Shapefile con las cuencas y sus atributos de hypso_inte y area_curva.\n",
    "- Un archivo JSON con las coordenadas de las curvas hipsométricas de cada cuenca.\n",
    "\n",
    "\n",
    "\n",
    "Las carpetas tienen un archivo vacio (\".txt\") para que se puedan subir a GitHub."
   ]
  },
  {
   "cell_type": "markdown",
   "metadata": {},
   "source": [
    "## Librerías a utilizar"
   ]
  },
  {
   "cell_type": "code",
   "execution_count": 4,
   "metadata": {},
   "outputs": [],
   "source": [
    "# leer archivos html\n",
    "from bs4 import BeautifulSoup  \n",
    "# manejar archivos json\n",
    "import json \n",
    "# manejar expresiones regulares                   \n",
    "import re  \n",
    "# manejar arrays                    \n",
    "import numpy as np   \n",
    "# manejar datos geoespaciales     \n",
    "import fiona\n",
    "import geopandas as gpd\n",
    "import geojson\n",
    "# funciones para recortar el raster de las cuencas y generar la curva Hypso\n",
    "import whitebox\n",
    "wbt = whitebox.WhiteboxTools()"
   ]
  },
  {
   "cell_type": "markdown",
   "metadata": {},
   "source": [
    "## Archivos de Entrada"
   ]
  },
  {
   "cell_type": "code",
   "execution_count": 7,
   "metadata": {},
   "outputs": [],
   "source": [
    "# Se elige la ruta del shapefile con las cuencas\n",
    "shapefile_path = \"SHP/CUENCASPOLIGONOS_V4.shp\"\n",
    "# Se abre el shapefile archivo con geopandas\n",
    "gdf = gpd.read_file(shapefile_path)\n",
    "\n",
    "# Se elige la ruta del GeoJSON con las cuencas\n",
    "geojson_output_path = \"SHP/CUENCASPOLIGONOS_V4.geojson\"\n",
    "# Guarda el GeoDataFrame como GeoJSON\n",
    "gdf.to_file(geojson_output_path, driver=\"GeoJSON\")\n",
    "\n",
    "# Lee el GeoJSON con las cuencas y la asgna a la variable gj\n",
    "with open('SHP/CUENCASPOLIGONOS_V4.geojson', encoding=\"utf8\") as f:\n",
    "  gj = geojson.load(f)"
   ]
  },
  {
   "cell_type": "markdown",
   "metadata": {},
   "source": [
    "## Generación de los raster individuales de las cuencas"
   ]
  },
  {
   "cell_type": "code",
   "execution_count": null,
   "metadata": {},
   "outputs": [],
   "source": [
    "# Se escoge la ruta (Absoluta) del DEM completo , Si no se ingresa de esta manera pone error WBT\n",
    "dem = \"D:\\Documents\\Daniel\\Proyectos\\Cuencas Edier\\DEM\\DEM1.tif\"\n",
    "# Se escoge la ruta (Absoluta) de la cuenca individual que se guarda temporalmente, Si no se ingresa de esta manera pone error WBT\n",
    "cuenca_ruta = \"D:\\Documents\\Daniel\\Proyectos\\Cuencas Edier\\SHP\\shp_cuenca_indivudual\\Areacuenca.shp\"\n",
    "\n",
    "# Recorre todas las cuencas recortando y generando su raster individual\n",
    "for contador, cuenca in enumerate(gj['features']):\n",
    "  # se crea el shapefile de la cuenca individual temporal\n",
    "  schema = {'geometry': 'Polygon','properties': {'Id': 'int:16', 'gridcode': 'int:16', 'Área': 'float:16'}}\n",
    "  with fiona.open('SHP/shp_cuenca_indivudual/Areacuenca.shp', 'w', driver='ESRI Shapefile', crs = \"EPSG:4326\", schema=schema) as c:\n",
    "    rec = {}\n",
    "    rec['geometry'] = cuenca.geometry\n",
    "    rec['properties'] = cuenca.properties\n",
    "    rec['id'] = str(0)\n",
    "    c.write(rec)\n",
    "  \n",
    "  # Se escoge la ruta (Absoluta) del DEM recortado, Si no se ingresa de esta manera pone error WBT \n",
    "  dem_recortado = f\"D:\\Documents\\Daniel\\Proyectos\\Cuencas Edier\\CUENCAS RASTER\\cuenca_{contador}.tif\"\n",
    "  # Se recorta el dem segun la cuenca y se guarda en la ruta especificada\n",
    "  wbt.clip_raster_to_polygon(dem, cuenca_ruta, dem_recortado, maintain_dimensions=False)"
   ]
  },
  {
   "cell_type": "markdown",
   "metadata": {},
   "source": [
    "## Generación de las curvas Hypso de cada cuenca, calculo del área bajo la curva\n",
    "\n",
    "Se recomienda no tener abiertas pestañas pues se van a abrir mas de 3400 pestañas de navegador, ir cerrandolas a medida que se van abriendo."
   ]
  },
  {
   "cell_type": "code",
   "execution_count": null,
   "metadata": {},
   "outputs": [],
   "source": [
    "# Variable donde se guardarán los puntos de cada curva Hypso\n",
    "DataCurvas = {}\n",
    "\n",
    "# Recorre todas las cuencas recortando y generando su curva Hypso y calculando el area bajo la curva\n",
    "for contador, cuenca in enumerate(gj['features']):\n",
    "  # Se escoge la ruta (Absoluta) del DEM de la cuenca, Si no se ingresa de esta manera pone error WBT\n",
    "  dem = f\"D:\\Documents\\Daniel\\Proyectos\\Cuencas Edier\\CUENCAS RASTER\\cuenca_{contador}.tif\"\n",
    "  # Se escoge la ruta (Absoluta) de la pagina donde se podrá ver la curva Hypso, Si no se ingresa de esta manera pone error WBT\n",
    "  out_html = f\"D:\\Documents\\Daniel\\Proyectos\\Cuencas Edier\\CURVAS\\cuenca_{contador}_hypso.html\"\n",
    "  # Se genera la curva Hypso y se guarda en la ruta especificada\n",
    "  wbt.hypsometric_analysis(dem, out_html, watershed=None)\n",
    "  \n",
    "  # Se inicializan las variables que se van a guardar en el GeoJSON\n",
    "  hypso_integral = 0\n",
    "  area_curva = 0\n",
    "  \n",
    "  # Se abre el archivo html de la curva Hypso para capturar los valores\n",
    "  with open(f\"CURVAS/cuenca_{contador}_hypso.html\", 'r') as f:\n",
    "    # Se inicializa la variable que contiene el html\n",
    "    soup = BeautifulSoup(f.read(), 'html.parser')\n",
    "    # Se busca el tag script que contiene las coordenadas de la curva Hypso\n",
    "    script_tag = soup.find('script')\n",
    "    # Se convierte a texto\n",
    "    script_text = script_tag.text\n",
    "    \n",
    "    # Se busca el tag body que contiene el valor de la integral de la curva Hypso\n",
    "    body_tag = soup.find('body')\n",
    "    # Se convierte a texto\n",
    "    body_text = body_tag.text\n",
    "    \n",
    "    # Se extrae el valor \"Hypsometric Integral\" de la curva Hypso\n",
    "    hypso_integral = float(body_text.split(\"Hypsometric Integral: \")[1].split(\"</p>\")[0])\n",
    "    \n",
    "    # usar expresión regular para encontrar el diccionario donde se guardan las coordenadas\n",
    "    match = re.search(r'plot\\s*=\\s*({[^}]+})', script_text)\n",
    "    if match:\n",
    "        # extraer la cadena del diccionario y convertirla a un diccionario Python\n",
    "        plot_text = match.group(1)\n",
    "        plot_text = re.sub(r'(\\w+):', r'\"\\1\":', plot_text)\n",
    "        plot = json.loads(plot_text)\n",
    "\n",
    "        # acceder a los datos\n",
    "        dataX = plot['dataX']\n",
    "        dataY = plot['dataY']\n",
    "        puntos = {\"X\": dataX, \"Y\": dataY}\n",
    "        # Guarda los datos de las curvas Hypso en un diccionario\n",
    "        DataCurvas[f\"cuenca_{contador}\"] = {\"X\":list(dataX[0])}\n",
    "        DataCurvas[f\"cuenca_{contador}\"][\"Y\"] = list(dataY[0])\n",
    "        # Con ayuda de numpy se calcula el area bajo la curva y se toma el valor absoluto\n",
    "        area_curva = np.trapz(list(dataY[0]), list(dataX[0]))\n",
    "        area_curva = abs(area_curva)\n",
    "        \n",
    "  # Estos dos valores, integral y area, se guardan en su cuenca respectiva en el GeoJSON\n",
    "  gj['features'][contador][\"properties\"][\"hypso_integral\"] = hypso_integral\n",
    "  gj['features'][contador][\"properties\"][\"area_curva\"] = area_curva\n",
    "\n",
    "# Se guarda el GeoJSON con las cuencas y sus nuevas propiedades\n",
    "with open('./SHP/shp_resultado/SHP_Resultado.geojson', 'w') as file:\n",
    "  json.dump(gj, file, indent=4)\n",
    "  \n",
    "# Se guarda el GeoJSON con los datos de las curvas Hypso\n",
    "with open('./DATOS CURVAS/data_hypso.json', 'w') as file:\n",
    "  json.dump(DataCurvas, file, indent=4)\n",
    "\n",
    "# Se lee el GeoJSON con las cuencas y se guarda como shapefile\n",
    "gdf = gpd.read_file('./SHP/shp_resultado/SHP_Resultado.geojson')\n",
    "gdf.to_file('./SHP/shp_resultado/SHP_Resultado.shp')"
   ]
  }
 ],
 "metadata": {
  "kernelspec": {
   "display_name": "gee",
   "language": "python",
   "name": "python3"
  },
  "language_info": {
   "codemirror_mode": {
    "name": "ipython",
    "version": 3
   },
   "file_extension": ".py",
   "mimetype": "text/x-python",
   "name": "python",
   "nbconvert_exporter": "python",
   "pygments_lexer": "ipython3",
   "version": "3.10.8"
  }
 },
 "nbformat": 4,
 "nbformat_minor": 2
}
